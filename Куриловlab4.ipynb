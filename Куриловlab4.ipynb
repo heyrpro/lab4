{
 "cells": [
  {
   "cell_type": "markdown",
   "metadata": {},
   "source": [
    "**Задание 1**\n",
    "Печатные газеты использовали свой формат дат для каждого выпуска. Для каждой газеты из списка напишите формат указанной даты для перевода в объект datetime:<br/>\n",
    "The Moscow Times - Wednesday, October 2, 2002<br/>\n",
    "The Guardian - Friday, 11.10.13<br/>\n",
    "Daily News - Thursday, 18 August 1977*\n"
   ]
  },
  {
   "cell_type": "code",
   "execution_count": 1,
   "metadata": {},
   "outputs": [
    {
     "name": "stdout",
     "output_type": "stream",
     "text": [
      "Wednesday 02.10.2002\n",
      "Friday 11.10.2013\n",
      "Thursday 18.08.1977\n"
     ]
    }
   ],
   "source": [
    "from datetime import datetime\n",
    "\n",
    "str1 = \"Wednesday October 2 2002\" \n",
    "str2 = \"Friday 11.10.13\"\n",
    "str3 = \"Thursday 18 August 1977\"\n",
    "PATTERN1= \"%A %B %d %Y\"\n",
    "PATTERN2= \"%A %d.%m.%y\"\n",
    "PATTERN3= \"%A %d %B %Y\"\n",
    "PATTERN_OUT = \"%A %d.%m.%Y\" \n",
    "\n",
    "\n",
    "date1 = datetime.strptime(str1, PATTERN1) \n",
    "print(datetime.strftime(date1, PATTERN_OUT))\n",
    "date2 = datetime.strptime(str2, PATTERN2) \n",
    "print(datetime.strftime(date2, PATTERN_OUT))\n",
    "date3 = datetime.strptime(str3, PATTERN3) \n",
    "print(datetime.strftime(date3, PATTERN_OUT))"
   ]
  },
  {
   "cell_type": "markdown",
   "metadata": {},
   "source": [
    "\n",
    "**Задание 2**<br/>\n",
    "Дан поток дат в формате YYYY-MM-DD, в которых встречаются некорректные значения:<br/>\n",
    "stream = [‘2018-04-02’, ‘2018-02-29’, ‘2018-19-02’]<br/>\n",
    "<br/>\n",
    "Напишите функцию, которая проверяет эти даты на корректность. Т. е. для каждой даты возвращает True (дата корректна) или False (некорректная дата)."
   ]
  },
  {
   "cell_type": "code",
   "execution_count": null,
   "metadata": {},
   "outputs": [],
   "source": [
    "import time\n",
    "stream = ['2018-04-02', '2018-02-29', '2018-19-02']\n",
    "for i in stream:\n",
    " try:\n",
    "   valid_date = time.strptime(i, '%Y-%m-%d')\n",
    "   print(i,\"Try\")\n",
    " except ValueError:\n",
    "   print(i,'Invalid date!')"
   ]
  },
  {
   "cell_type": "markdown",
   "metadata": {},
   "source": [
    "**Задание 3**<br/>\n",
    "Напишите функцию date_range, которая возвращает список дат за период от start_date до end_date. Даты должны вводиться в формате YYYY-MM-DD. В случае неверного формата или при start_date > end_date должен возвращаться пустой список."
   ]
  },
  {
   "cell_type": "code",
   "execution_count": 51,
   "metadata": {},
   "outputs": [
    {
     "name": "stdout",
     "output_type": "stream",
     "text": [
      "2020-01-01\n",
      "2020-01-02\n",
      "2020-01-03\n",
      "2020-01-04\n",
      "2020-01-05\n",
      "2020-01-06\n",
      "2020-01-07\n",
      "2020-01-08\n",
      "2020-01-09\n",
      "2020-01-10\n",
      "2020-01-11\n",
      "2020-01-12\n",
      "2020-01-13\n",
      "2020-01-14\n",
      "2020-01-15\n",
      "2020-01-16\n",
      "2020-01-17\n",
      "2020-01-18\n",
      "2020-01-19\n",
      "2020-01-20\n",
      "2020-01-21\n",
      "2020-01-22\n",
      "2020-01-23\n",
      "2020-01-24\n",
      "2020-01-25\n",
      "2020-01-26\n",
      "2020-01-27\n",
      "2020-01-28\n",
      "2020-01-29\n",
      "2020-01-30\n",
      "2020-01-31\n",
      "2020-02-01\n",
      "2020-02-02\n",
      "2020-02-03\n",
      "2020-02-04\n"
     ]
    }
   ],
   "source": [
    "from datetime import date, timedelta\n",
    "def date_range(start_date,end_date):\n",
    " delta = end_date - start_date         \n",
    " if delta.days<=0:\n",
    "    print (\"Ругаемся и выходим\")\n",
    " for i in range(delta.days + 1):\n",
    "    print(d1 + timedelta(i))\n",
    "        \n",
    "d1 = date(2020,1,1)  # начальная дата\n",
    "d2 = date(2020,2,4) # конечная дата\n",
    "date_range(d1,d2)"
   ]
  },
  {
   "cell_type": "markdown",
   "metadata": {},
   "source": [
    "**Задание 4**<br/>\n",
    "Ваш коллега прислал код функции:<br/>\n",
    "\n",
    "DEFAULT_USER_COUNT = 3<br/>\n",
    "\n",
    "def delete_and_return_last_user(region, default_list=[‘A100’, ‘A101’, ‘A102’]):<br/>\n",
    "\"\"“<br/>\n",
    "Удаляет из списка default_list последнего пользователя<br/>\n",
    "и возвращает ID нового последнего пользователя.<br/>\n",
    "”\"\"<br/>\n",
    "element_to_delete = default_list[-1]<br/>\n",
    "default_list.remove(element_to_delete)<br/>\n",
    "<br/>\n",
    "return default_list[DEFAULT_USER_COUNT-2]<br/>\n",
    "При однократном вызове этой функции все работает корректно:<br/>\n",
    "delete_and_return_last_user(1)<br/>\n",
    "‘A101’<br/>\n",
    "<br/>\n",
    "Однако, при повторном вызове получается ошибка IndexError: list index out of range.<br/>\n",
    "<br/>\n",
    "Задание:<br/>\n",
    "<br/>\n",
    "Что значит ошибка list index out of range?<br/>\n",
    "Почему при первом запуске функция работает корректно, а при втором - нет?<br/>"
   ]
  },
  {
   "cell_type": "markdown",
   "metadata": {},
   "source": [
    "**ОТВЕТ**<br/>\n",
    "Ошибка **list index out of range** значит, что индекс элемента, возвращаемого из функции выходит за границы списка. При первом запуске переменная DEFAULT_USER_COUNT-2 есть в списке, а при втором запуске она равна 0, а следовательно выводится ошибка."
   ]
  },
  {
   "cell_type": "code",
   "execution_count": null,
   "metadata": {},
   "outputs": [],
   "source": [
    "\n"
   ]
  },
  {
   "cell_type": "code",
   "execution_count": null,
   "metadata": {},
   "outputs": [],
   "source": []
  }
 ],
 "metadata": {
  "kernelspec": {
   "display_name": "Python 3",
   "language": "python",
   "name": "python3"
  },
  "language_info": {
   "codemirror_mode": {
    "name": "ipython",
    "version": 3
   },
   "file_extension": ".py",
   "mimetype": "text/x-python",
   "name": "python",
   "nbconvert_exporter": "python",
   "pygments_lexer": "ipython3",
   "version": "3.8.3"
  }
 },
 "nbformat": 4,
 "nbformat_minor": 4
}
